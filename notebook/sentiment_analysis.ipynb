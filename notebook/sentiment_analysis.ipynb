{
 "cells": [
  {
   "cell_type": "markdown",
   "id": "e77e306e",
   "metadata": {},
   "source": [
    "### Importing Needed Libraries"
   ]
  },
  {
   "cell_type": "code",
   "execution_count": 65,
   "id": "64642626",
   "metadata": {},
   "outputs": [],
   "source": [
    "# For loading the data \n",
    "import pandas as pd\n",
    "\n",
    "from transformers import pipeline\n",
    "\n",
    "from textwrap import wrap\n",
    "\n",
    "from collections import Counter\n",
    "\n",
    "# Import tqdm and enable progress_apply() for pandas\n",
    "from tqdm.auto import tqdm\n",
    "tqdm.pandas()"
   ]
  },
  {
   "cell_type": "markdown",
   "id": "ee0b2fdc",
   "metadata": {},
   "source": [
    "### Step 1: Load the Data"
   ]
  },
  {
   "cell_type": "code",
   "execution_count": 43,
   "id": "ec9a20e5",
   "metadata": {},
   "outputs": [
    {
     "data": {
      "text/html": [
       "<div>\n",
       "<style scoped>\n",
       "    .dataframe tbody tr th:only-of-type {\n",
       "        vertical-align: middle;\n",
       "    }\n",
       "\n",
       "    .dataframe tbody tr th {\n",
       "        vertical-align: top;\n",
       "    }\n",
       "\n",
       "    .dataframe thead th {\n",
       "        text-align: right;\n",
       "    }\n",
       "</style>\n",
       "<table border=\"1\" class=\"dataframe\">\n",
       "  <thead>\n",
       "    <tr style=\"text-align: right;\">\n",
       "      <th></th>\n",
       "      <th>Unnamed: 0</th>\n",
       "      <th>Book</th>\n",
       "      <th>Review</th>\n",
       "      <th>Review Date</th>\n",
       "    </tr>\n",
       "  </thead>\n",
       "  <tbody>\n",
       "    <tr>\n",
       "      <th>0</th>\n",
       "      <td>0</td>\n",
       "      <td>To Kill a Mockingbird</td>\n",
       "      <td>gentle reminder that this is not the time to r...</td>\n",
       "      <td>March 24, 2022</td>\n",
       "    </tr>\n",
       "    <tr>\n",
       "      <th>1</th>\n",
       "      <td>1</td>\n",
       "      <td>To Kill a Mockingbird</td>\n",
       "      <td>6.0 stars. I know I am risking a serious “FILM...</td>\n",
       "      <td>May 24, 2011</td>\n",
       "    </tr>\n",
       "    <tr>\n",
       "      <th>2</th>\n",
       "      <td>2</td>\n",
       "      <td>To Kill a Mockingbird</td>\n",
       "      <td>Looking for a new book but don't want to commi...</td>\n",
       "      <td>December 10, 2020</td>\n",
       "    </tr>\n",
       "    <tr>\n",
       "      <th>3</th>\n",
       "      <td>4</td>\n",
       "      <td>To Kill a Mockingbird</td>\n",
       "      <td>Why is it when I pick up  To Kill A Mockingbir...</td>\n",
       "      <td>October 25, 2009</td>\n",
       "    </tr>\n",
       "    <tr>\n",
       "      <th>4</th>\n",
       "      <td>5</td>\n",
       "      <td>To Kill a Mockingbird</td>\n",
       "      <td>I had a much longer review written for this bo...</td>\n",
       "      <td>December 17, 2020</td>\n",
       "    </tr>\n",
       "  </tbody>\n",
       "</table>\n",
       "</div>"
      ],
      "text/plain": [
       "   Unnamed: 0                   Book  \\\n",
       "0           0  To Kill a Mockingbird   \n",
       "1           1  To Kill a Mockingbird   \n",
       "2           2  To Kill a Mockingbird   \n",
       "3           4  To Kill a Mockingbird   \n",
       "4           5  To Kill a Mockingbird   \n",
       "\n",
       "                                              Review        Review Date  \n",
       "0  gentle reminder that this is not the time to r...     March 24, 2022  \n",
       "1  6.0 stars. I know I am risking a serious “FILM...       May 24, 2011  \n",
       "2  Looking for a new book but don't want to commi...  December 10, 2020  \n",
       "3  Why is it when I pick up  To Kill A Mockingbir...   October 25, 2009  \n",
       "4  I had a much longer review written for this bo...  December 17, 2020  "
      ]
     },
     "execution_count": 43,
     "metadata": {},
     "output_type": "execute_result"
    }
   ],
   "source": [
    "df = pd.read_csv(r\"../data/cleaned_data.csv\")\n",
    "df.head()"
   ]
  },
  {
   "cell_type": "markdown",
   "id": "36edadfb",
   "metadata": {},
   "source": [
    "### Step 3: Analyze Sentiment Using Transformers"
   ]
  },
  {
   "cell_type": "code",
   "execution_count": 44,
   "id": "6856dd84",
   "metadata": {},
   "outputs": [
    {
     "name": "stderr",
     "output_type": "stream",
     "text": [
      "Device set to use cpu\n"
     ]
    }
   ],
   "source": [
    "# Load pre-trained sentiment analysis model \n",
    "sentiment_analyzer = pipeline(\"sentiment-analysis\", model=\"cardiffnlp/twitter-roberta-base-sentiment\")"
   ]
  },
  {
   "cell_type": "code",
   "execution_count": 56,
   "id": "a920f544",
   "metadata": {},
   "outputs": [
    {
     "name": "stdout",
     "output_type": "stream",
     "text": [
      "4625\n",
      "10\n",
      "18421\n"
     ]
    }
   ],
   "source": [
    "# Analyzing if we can drop rows above 512\n",
    "\n",
    "# Create a new column with the character length of each review\n",
    "df ['Review_Length'] = df['Review'].astype(str).apply(len)\n",
    "\n",
    "# Checking reviews that are below, equal, or above 512\n",
    "below_512 = (df['Review_Length'] < 512).sum()\n",
    "equal_512 = (df['Review_Length'] == 512).sum()\n",
    "above_512 = (df['Review_Length'] > 512).sum()\n",
    "\n",
    "print(below_512)\n",
    "print(equal_512)\n",
    "print(above_512)"
   ]
  },
  {
   "cell_type": "code",
   "execution_count": null,
   "id": "889cb066",
   "metadata": {},
   "outputs": [
    {
     "data": {
      "application/vnd.jupyter.widget-view+json": {
       "model_id": "3727b5ced23943acbf77e7bf2aeb5702",
       "version_major": 2,
       "version_minor": 0
      },
      "text/plain": [
       "  0%|          | 0/23056 [00:00<?, ?it/s]"
      ]
     },
     "metadata": {},
     "output_type": "display_data"
    }
   ],
   "source": [
    "def analyze_full_review(review, chunk_size=512):\n",
    "    try: \n",
    "        # Split long texts into chunks\n",
    "        chunks = wrap(review, chunk_size)\n",
    "        \n",
    "        labels = []\n",
    "        # Run sentiment_analyzer() separetely on each chunk\n",
    "        for chunk in chunks:\n",
    "            chunk_analyzed = sentiment_analyzer(chunk)\n",
    "            # Extract label\n",
    "            label = chunk_analyzed[0][\"label\"]\n",
    "            labels.append(label)\n",
    "        \n",
    "        # Use Counter to find the most common label\n",
    "        most_common_label = Counter(labels).most_common(1)[0][0]\n",
    "\n",
    "        return most_common_label\n",
    "    \n",
    "    except Exception as e:\n",
    "        # Show the error in the terminal\n",
    "        print(\"Error: \", e)\n",
    "        # Mark the row with ERROR\n",
    "        return \"ERROR\"\n",
    "    \n",
    "df[\"Polarity_of_Review\"] = df[\"Review\"].progress_apply(analyze_full_review)"
   ]
  },
  {
   "cell_type": "code",
   "execution_count": 57,
   "id": "399f1df1",
   "metadata": {},
   "outputs": [],
   "source": [
    "# pd.set_option('display.max_colwidth', None) \n",
    "# new_df.head()"
   ]
  }
 ],
 "metadata": {
  "kernelspec": {
   "display_name": "env",
   "language": "python",
   "name": "python3"
  },
  "language_info": {
   "codemirror_mode": {
    "name": "ipython",
    "version": 3
   },
   "file_extension": ".py",
   "mimetype": "text/x-python",
   "name": "python",
   "nbconvert_exporter": "python",
   "pygments_lexer": "ipython3",
   "version": "3.13.2"
  }
 },
 "nbformat": 4,
 "nbformat_minor": 5
}
