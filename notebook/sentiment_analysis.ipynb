{
 "cells": [
  {
   "cell_type": "markdown",
   "id": "fbb35567",
   "metadata": {},
   "source": [
    "# Sentiment-Based Book Recommendation Logic (Non-Interactive)\n",
    "\n",
    "This notebook demonstrates the core logic of a sentiment aware book recommender system.\n",
    "It uses TextBlob to analyze review sentiment and suggests alternative books that the user may enjoy."
   ]
  },
  {
   "cell_type": "markdown",
   "id": "d0d143ff",
   "metadata": {},
   "source": [
    "### Importing Needed Libraries"
   ]
  },
  {
   "cell_type": "code",
   "execution_count": null,
   "id": "64642626",
   "metadata": {},
   "outputs": [],
   "source": [
    "import pandas as pd"
   ]
  },
  {
   "cell_type": "markdown",
   "id": "8429888e",
   "metadata": {},
   "source": [
    "### Step 1: Load the Data"
   ]
  },
  {
   "cell_type": "code",
   "execution_count": null,
   "id": "01a4c06f",
   "metadata": {},
   "outputs": [],
   "source": [
    "df = pd.read_csv(r\"C:\\book-sentiment-project\\data\\Book Reviews.csv\")\n",
    "print(\"Data Loaded\")"
   ]
  }
 ],
 "metadata": {
  "language_info": {
   "name": "python"
  }
 },
 "nbformat": 4,
 "nbformat_minor": 5
}
