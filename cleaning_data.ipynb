{
 "cells": [
  {
   "cell_type": "markdown",
   "id": "32a410bb",
   "metadata": {},
   "source": [
    "# Notebook 1: Cleaning & Saving Clean Text"
   ]
  },
  {
   "cell_type": "markdown",
   "id": "d358013b",
   "metadata": {},
   "source": [
    "### Importing Needed Libraries"
   ]
  },
  {
   "cell_type": "code",
   "execution_count": null,
   "id": "ad313f40",
   "metadata": {},
   "outputs": [],
   "source": [
    "# For data cleaning\n",
    "import pandas as pd\n",
    "\n",
    "# For language detection\n",
    "from langdetect import detect"
   ]
  },
  {
   "cell_type": "markdown",
   "id": "0d37c6c7",
   "metadata": {},
   "source": [
    "### Step 1: Load the Data"
   ]
  },
  {
   "cell_type": "code",
   "execution_count": 2,
   "id": "a6315654",
   "metadata": {},
   "outputs": [
    {
     "data": {
      "text/html": [
       "<div>\n",
       "<style scoped>\n",
       "    .dataframe tbody tr th:only-of-type {\n",
       "        vertical-align: middle;\n",
       "    }\n",
       "\n",
       "    .dataframe tbody tr th {\n",
       "        vertical-align: top;\n",
       "    }\n",
       "\n",
       "    .dataframe thead th {\n",
       "        text-align: right;\n",
       "    }\n",
       "</style>\n",
       "<table border=\"1\" class=\"dataframe\">\n",
       "  <thead>\n",
       "    <tr style=\"text-align: right;\">\n",
       "      <th></th>\n",
       "      <th>Unnamed: 0</th>\n",
       "      <th>Book</th>\n",
       "      <th>Review</th>\n",
       "      <th>Review Date</th>\n",
       "    </tr>\n",
       "  </thead>\n",
       "  <tbody>\n",
       "    <tr>\n",
       "      <th>0</th>\n",
       "      <td>0</td>\n",
       "      <td>To Kill a Mockingbird</td>\n",
       "      <td>/// gentle reminder that this is not the time ...</td>\n",
       "      <td>March 24, 2022</td>\n",
       "    </tr>\n",
       "    <tr>\n",
       "      <th>1</th>\n",
       "      <td>1</td>\n",
       "      <td>To Kill a Mockingbird</td>\n",
       "      <td>\\n|\\n|6.0 stars. I know I am risking a serious...</td>\n",
       "      <td>May 24, 2011</td>\n",
       "    </tr>\n",
       "    <tr>\n",
       "      <th>2</th>\n",
       "      <td>2</td>\n",
       "      <td>To Kill a Mockingbird</td>\n",
       "      <td>\\n|\\n|Looking for a new book but don't want to...</td>\n",
       "      <td>December 10, 2020</td>\n",
       "    </tr>\n",
       "    <tr>\n",
       "      <th>3</th>\n",
       "      <td>3</td>\n",
       "      <td>To Kill a Mockingbird</td>\n",
       "      <td>To Kill a Mockingbird, Harper Lee|To Kill a Mo...</td>\n",
       "      <td>July 1, 2022</td>\n",
       "    </tr>\n",
       "    <tr>\n",
       "      <th>4</th>\n",
       "      <td>4</td>\n",
       "      <td>To Kill a Mockingbird</td>\n",
       "      <td>Why is it when I pick up | To Kill A Mockingbi...</td>\n",
       "      <td>October 25, 2009</td>\n",
       "    </tr>\n",
       "  </tbody>\n",
       "</table>\n",
       "</div>"
      ],
      "text/plain": [
       "   Unnamed: 0                   Book  \\\n",
       "0           0  To Kill a Mockingbird   \n",
       "1           1  To Kill a Mockingbird   \n",
       "2           2  To Kill a Mockingbird   \n",
       "3           3  To Kill a Mockingbird   \n",
       "4           4  To Kill a Mockingbird   \n",
       "\n",
       "                                              Review        Review Date  \n",
       "0  /// gentle reminder that this is not the time ...     March 24, 2022  \n",
       "1  \\n|\\n|6.0 stars. I know I am risking a serious...       May 24, 2011  \n",
       "2  \\n|\\n|Looking for a new book but don't want to...  December 10, 2020  \n",
       "3  To Kill a Mockingbird, Harper Lee|To Kill a Mo...       July 1, 2022  \n",
       "4  Why is it when I pick up | To Kill A Mockingbi...   October 25, 2009  "
      ]
     },
     "execution_count": 2,
     "metadata": {},
     "output_type": "execute_result"
    }
   ],
   "source": [
    "df = pd.read_csv(r\"C:\\book-sentiment-project\\data\\Book Reviews.csv\")\n",
    "df.head()"
   ]
  },
  {
   "cell_type": "markdown",
   "id": "101b3526",
   "metadata": {},
   "source": [
    "### Step 2: Clean the Data"
   ]
  },
  {
   "cell_type": "code",
   "execution_count": 10,
   "id": "2dbf5277",
   "metadata": {},
   "outputs": [
    {
     "data": {
      "text/plain": [
       "(31772, 4)"
      ]
     },
     "execution_count": 10,
     "metadata": {},
     "output_type": "execute_result"
    }
   ],
   "source": [
    "# Check number of rows and columns\n",
    "df.shape"
   ]
  },
  {
   "cell_type": "code",
   "execution_count": 3,
   "id": "2c63bb95",
   "metadata": {},
   "outputs": [
    {
     "data": {
      "text/html": [
       "<div>\n",
       "<style scoped>\n",
       "    .dataframe tbody tr th:only-of-type {\n",
       "        vertical-align: middle;\n",
       "    }\n",
       "\n",
       "    .dataframe tbody tr th {\n",
       "        vertical-align: top;\n",
       "    }\n",
       "\n",
       "    .dataframe thead th {\n",
       "        text-align: right;\n",
       "    }\n",
       "</style>\n",
       "<table border=\"1\" class=\"dataframe\">\n",
       "  <thead>\n",
       "    <tr style=\"text-align: right;\">\n",
       "      <th></th>\n",
       "      <th>Unnamed: 0</th>\n",
       "      <th>Book</th>\n",
       "      <th>Review</th>\n",
       "      <th>Review Date</th>\n",
       "    </tr>\n",
       "  </thead>\n",
       "  <tbody>\n",
       "    <tr>\n",
       "      <th>0</th>\n",
       "      <td>0</td>\n",
       "      <td>To Kill a Mockingbird</td>\n",
       "      <td>gentle reminder that this is not the time to r...</td>\n",
       "      <td>March 24, 2022</td>\n",
       "    </tr>\n",
       "    <tr>\n",
       "      <th>1</th>\n",
       "      <td>1</td>\n",
       "      <td>To Kill a Mockingbird</td>\n",
       "      <td>6.0 stars. I know I am risking a serious “FILM...</td>\n",
       "      <td>May 24, 2011</td>\n",
       "    </tr>\n",
       "    <tr>\n",
       "      <th>2</th>\n",
       "      <td>2</td>\n",
       "      <td>To Kill a Mockingbird</td>\n",
       "      <td>Looking for a new book but don't want to commi...</td>\n",
       "      <td>December 10, 2020</td>\n",
       "    </tr>\n",
       "    <tr>\n",
       "      <th>3</th>\n",
       "      <td>3</td>\n",
       "      <td>To Kill a Mockingbird</td>\n",
       "      <td>To Kill a Mockingbird, Harper LeeTo Kill a Moc...</td>\n",
       "      <td>July 1, 2022</td>\n",
       "    </tr>\n",
       "    <tr>\n",
       "      <th>4</th>\n",
       "      <td>4</td>\n",
       "      <td>To Kill a Mockingbird</td>\n",
       "      <td>Why is it when I pick up  To Kill A Mockingbir...</td>\n",
       "      <td>October 25, 2009</td>\n",
       "    </tr>\n",
       "  </tbody>\n",
       "</table>\n",
       "</div>"
      ],
      "text/plain": [
       "   Unnamed: 0                   Book  \\\n",
       "0           0  To Kill a Mockingbird   \n",
       "1           1  To Kill a Mockingbird   \n",
       "2           2  To Kill a Mockingbird   \n",
       "3           3  To Kill a Mockingbird   \n",
       "4           4  To Kill a Mockingbird   \n",
       "\n",
       "                                              Review        Review Date  \n",
       "0  gentle reminder that this is not the time to r...     March 24, 2022  \n",
       "1  6.0 stars. I know I am risking a serious “FILM...       May 24, 2011  \n",
       "2  Looking for a new book but don't want to commi...  December 10, 2020  \n",
       "3  To Kill a Mockingbird, Harper LeeTo Kill a Moc...       July 1, 2022  \n",
       "4  Why is it when I pick up  To Kill A Mockingbir...   October 25, 2009  "
      ]
     },
     "execution_count": 3,
     "metadata": {},
     "output_type": "execute_result"
    }
   ],
   "source": [
    "# Remove unwanted characters\n",
    "df[\"Review\"] = df[\"Review\"].str.replace(\"\\n\", \"\", regex=True)\n",
    "df[\"Review\"] = df[\"Review\"].str.replace(\"[/|]\", \"\", regex=True)\n",
    "df[\"Review\"] = df[\"Review\"].str.strip()\n",
    "df.head()"
   ]
  },
  {
   "cell_type": "code",
   "execution_count": 4,
   "id": "81eb54ea",
   "metadata": {},
   "outputs": [
    {
     "data": {
      "text/plain": [
       "Unnamed: 0       0\n",
       "Book             0\n",
       "Review         309\n",
       "Review Date      0\n",
       "dtype: int64"
      ]
     },
     "execution_count": 4,
     "metadata": {},
     "output_type": "execute_result"
    }
   ],
   "source": [
    "# Checking if there are any nulls\n",
    "df.isnull().sum()\n",
    "\n",
    "# There are 309 rows missing in the \"Review\" column"
   ]
  },
  {
   "cell_type": "code",
   "execution_count": 5,
   "id": "e56f49bc",
   "metadata": {},
   "outputs": [],
   "source": [
    "# Remove rows where \"Review\" column is null and update df\n",
    "df = df.dropna(subset=[\"Review\"])"
   ]
  },
  {
   "cell_type": "code",
   "execution_count": 6,
   "id": "5e30eb93",
   "metadata": {},
   "outputs": [
    {
     "data": {
      "text/plain": [
       "Unnamed: 0     0\n",
       "Book           0\n",
       "Review         0\n",
       "Review Date    0\n",
       "dtype: int64"
      ]
     },
     "execution_count": 6,
     "metadata": {},
     "output_type": "execute_result"
    }
   ],
   "source": [
    "# Checking if all nulls were dropped\n",
    "df.isnull().sum()"
   ]
  },
  {
   "cell_type": "code",
   "execution_count": 7,
   "id": "d4014860",
   "metadata": {},
   "outputs": [
    {
     "data": {
      "text/html": [
       "<div>\n",
       "<style scoped>\n",
       "    .dataframe tbody tr th:only-of-type {\n",
       "        vertical-align: middle;\n",
       "    }\n",
       "\n",
       "    .dataframe tbody tr th {\n",
       "        vertical-align: top;\n",
       "    }\n",
       "\n",
       "    .dataframe thead th {\n",
       "        text-align: right;\n",
       "    }\n",
       "</style>\n",
       "<table border=\"1\" class=\"dataframe\">\n",
       "  <thead>\n",
       "    <tr style=\"text-align: right;\">\n",
       "      <th></th>\n",
       "      <th>Unnamed: 0</th>\n",
       "      <th>Book</th>\n",
       "      <th>Review</th>\n",
       "      <th>Review Date</th>\n",
       "      <th>language</th>\n",
       "    </tr>\n",
       "  </thead>\n",
       "  <tbody>\n",
       "    <tr>\n",
       "      <th>0</th>\n",
       "      <td>0</td>\n",
       "      <td>To Kill a Mockingbird</td>\n",
       "      <td>gentle reminder that this is not the time to r...</td>\n",
       "      <td>March 24, 2022</td>\n",
       "      <td>en</td>\n",
       "    </tr>\n",
       "    <tr>\n",
       "      <th>1</th>\n",
       "      <td>1</td>\n",
       "      <td>To Kill a Mockingbird</td>\n",
       "      <td>6.0 stars. I know I am risking a serious “FILM...</td>\n",
       "      <td>May 24, 2011</td>\n",
       "      <td>en</td>\n",
       "    </tr>\n",
       "    <tr>\n",
       "      <th>2</th>\n",
       "      <td>2</td>\n",
       "      <td>To Kill a Mockingbird</td>\n",
       "      <td>Looking for a new book but don't want to commi...</td>\n",
       "      <td>December 10, 2020</td>\n",
       "      <td>en</td>\n",
       "    </tr>\n",
       "    <tr>\n",
       "      <th>3</th>\n",
       "      <td>3</td>\n",
       "      <td>To Kill a Mockingbird</td>\n",
       "      <td>To Kill a Mockingbird, Harper LeeTo Kill a Moc...</td>\n",
       "      <td>July 1, 2022</td>\n",
       "      <td>fa</td>\n",
       "    </tr>\n",
       "    <tr>\n",
       "      <th>4</th>\n",
       "      <td>4</td>\n",
       "      <td>To Kill a Mockingbird</td>\n",
       "      <td>Why is it when I pick up  To Kill A Mockingbir...</td>\n",
       "      <td>October 25, 2009</td>\n",
       "      <td>en</td>\n",
       "    </tr>\n",
       "  </tbody>\n",
       "</table>\n",
       "</div>"
      ],
      "text/plain": [
       "   Unnamed: 0                   Book  \\\n",
       "0           0  To Kill a Mockingbird   \n",
       "1           1  To Kill a Mockingbird   \n",
       "2           2  To Kill a Mockingbird   \n",
       "3           3  To Kill a Mockingbird   \n",
       "4           4  To Kill a Mockingbird   \n",
       "\n",
       "                                              Review        Review Date  \\\n",
       "0  gentle reminder that this is not the time to r...     March 24, 2022   \n",
       "1  6.0 stars. I know I am risking a serious “FILM...       May 24, 2011   \n",
       "2  Looking for a new book but don't want to commi...  December 10, 2020   \n",
       "3  To Kill a Mockingbird, Harper LeeTo Kill a Moc...       July 1, 2022   \n",
       "4  Why is it when I pick up  To Kill A Mockingbir...   October 25, 2009   \n",
       "\n",
       "  language  \n",
       "0       en  \n",
       "1       en  \n",
       "2       en  \n",
       "3       fa  \n",
       "4       en  "
      ]
     },
     "execution_count": 7,
     "metadata": {},
     "output_type": "execute_result"
    }
   ],
   "source": [
    "def detect_language(text):\n",
    "    try:\n",
    "        # Try to detect language of the input text\n",
    "        return detect(text)\n",
    "    except:\n",
    "        # If an error occurs, return 'xx'\n",
    "        return 'xx'\n",
    "\n",
    "# Create a full copy of the original df to safely work with it\n",
    "df_with_lan = df.copy()\n",
    "\n",
    "# Apply the detect_language function to each review\n",
    "# and store the result in a new column called 'language'\n",
    "df_with_lan['language'] = df_with_lan['Review'].apply(detect_language)\n",
    "\n",
    "df_with_lan.head()"
   ]
  },
  {
   "cell_type": "code",
   "execution_count": null,
   "id": "d5c9a2a0",
   "metadata": {},
   "outputs": [],
   "source": [
    "# pd.set_option('display.max_colwidth', None) \n",
    "# df_with_lan.head()"
   ]
  },
  {
   "cell_type": "code",
   "execution_count": 8,
   "id": "6d1a3c61",
   "metadata": {},
   "outputs": [
    {
     "data": {
      "text/html": [
       "<div>\n",
       "<style scoped>\n",
       "    .dataframe tbody tr th:only-of-type {\n",
       "        vertical-align: middle;\n",
       "    }\n",
       "\n",
       "    .dataframe tbody tr th {\n",
       "        vertical-align: top;\n",
       "    }\n",
       "\n",
       "    .dataframe thead th {\n",
       "        text-align: right;\n",
       "    }\n",
       "</style>\n",
       "<table border=\"1\" class=\"dataframe\">\n",
       "  <thead>\n",
       "    <tr style=\"text-align: right;\">\n",
       "      <th></th>\n",
       "      <th>Unnamed: 0</th>\n",
       "      <th>Book</th>\n",
       "      <th>Review</th>\n",
       "      <th>Review Date</th>\n",
       "      <th>language</th>\n",
       "    </tr>\n",
       "  </thead>\n",
       "  <tbody>\n",
       "    <tr>\n",
       "      <th>0</th>\n",
       "      <td>0</td>\n",
       "      <td>To Kill a Mockingbird</td>\n",
       "      <td>gentle reminder that this is not the time to r...</td>\n",
       "      <td>March 24, 2022</td>\n",
       "      <td>en</td>\n",
       "    </tr>\n",
       "    <tr>\n",
       "      <th>1</th>\n",
       "      <td>1</td>\n",
       "      <td>To Kill a Mockingbird</td>\n",
       "      <td>6.0 stars. I know I am risking a serious “FILM...</td>\n",
       "      <td>May 24, 2011</td>\n",
       "      <td>en</td>\n",
       "    </tr>\n",
       "    <tr>\n",
       "      <th>2</th>\n",
       "      <td>2</td>\n",
       "      <td>To Kill a Mockingbird</td>\n",
       "      <td>Looking for a new book but don't want to commi...</td>\n",
       "      <td>December 10, 2020</td>\n",
       "      <td>en</td>\n",
       "    </tr>\n",
       "    <tr>\n",
       "      <th>3</th>\n",
       "      <td>4</td>\n",
       "      <td>To Kill a Mockingbird</td>\n",
       "      <td>Why is it when I pick up  To Kill A Mockingbir...</td>\n",
       "      <td>October 25, 2009</td>\n",
       "      <td>en</td>\n",
       "    </tr>\n",
       "    <tr>\n",
       "      <th>4</th>\n",
       "      <td>5</td>\n",
       "      <td>To Kill a Mockingbird</td>\n",
       "      <td>I had a much longer review written for this bo...</td>\n",
       "      <td>December 17, 2020</td>\n",
       "      <td>en</td>\n",
       "    </tr>\n",
       "  </tbody>\n",
       "</table>\n",
       "</div>"
      ],
      "text/plain": [
       "   Unnamed: 0                   Book  \\\n",
       "0           0  To Kill a Mockingbird   \n",
       "1           1  To Kill a Mockingbird   \n",
       "2           2  To Kill a Mockingbird   \n",
       "3           4  To Kill a Mockingbird   \n",
       "4           5  To Kill a Mockingbird   \n",
       "\n",
       "                                              Review        Review Date  \\\n",
       "0  gentle reminder that this is not the time to r...     March 24, 2022   \n",
       "1  6.0 stars. I know I am risking a serious “FILM...       May 24, 2011   \n",
       "2  Looking for a new book but don't want to commi...  December 10, 2020   \n",
       "3  Why is it when I pick up  To Kill A Mockingbir...   October 25, 2009   \n",
       "4  I had a much longer review written for this bo...  December 17, 2020   \n",
       "\n",
       "  language  \n",
       "0       en  \n",
       "1       en  \n",
       "2       en  \n",
       "3       en  \n",
       "4       en  "
      ]
     },
     "execution_count": 8,
     "metadata": {},
     "output_type": "execute_result"
    }
   ],
   "source": [
    "# Keep only the English reviews\n",
    "df_with_lan = df_with_lan[df_with_lan['language'] == 'en']\n",
    "\n",
    "# Reset Index\n",
    "df_with_lan.reset_index(drop=True, inplace=True)\n",
    "\n",
    "df_with_lan.head()"
   ]
  },
  {
   "cell_type": "code",
   "execution_count": null,
   "id": "32b0a1d8",
   "metadata": {},
   "outputs": [
    {
     "data": {
      "text/html": [
       "<div>\n",
       "<style scoped>\n",
       "    .dataframe tbody tr th:only-of-type {\n",
       "        vertical-align: middle;\n",
       "    }\n",
       "\n",
       "    .dataframe tbody tr th {\n",
       "        vertical-align: top;\n",
       "    }\n",
       "\n",
       "    .dataframe thead th {\n",
       "        text-align: right;\n",
       "    }\n",
       "</style>\n",
       "<table border=\"1\" class=\"dataframe\">\n",
       "  <thead>\n",
       "    <tr style=\"text-align: right;\">\n",
       "      <th></th>\n",
       "      <th>Unnamed: 0</th>\n",
       "      <th>Book</th>\n",
       "      <th>Review</th>\n",
       "      <th>Review Date</th>\n",
       "    </tr>\n",
       "  </thead>\n",
       "  <tbody>\n",
       "    <tr>\n",
       "      <th>0</th>\n",
       "      <td>0</td>\n",
       "      <td>To Kill a Mockingbird</td>\n",
       "      <td>gentle reminder that this is not the time to r...</td>\n",
       "      <td>March 24, 2022</td>\n",
       "    </tr>\n",
       "    <tr>\n",
       "      <th>1</th>\n",
       "      <td>1</td>\n",
       "      <td>To Kill a Mockingbird</td>\n",
       "      <td>6.0 stars. I know I am risking a serious “FILM...</td>\n",
       "      <td>May 24, 2011</td>\n",
       "    </tr>\n",
       "    <tr>\n",
       "      <th>2</th>\n",
       "      <td>2</td>\n",
       "      <td>To Kill a Mockingbird</td>\n",
       "      <td>Looking for a new book but don't want to commi...</td>\n",
       "      <td>December 10, 2020</td>\n",
       "    </tr>\n",
       "    <tr>\n",
       "      <th>3</th>\n",
       "      <td>4</td>\n",
       "      <td>To Kill a Mockingbird</td>\n",
       "      <td>Why is it when I pick up  To Kill A Mockingbir...</td>\n",
       "      <td>October 25, 2009</td>\n",
       "    </tr>\n",
       "    <tr>\n",
       "      <th>4</th>\n",
       "      <td>5</td>\n",
       "      <td>To Kill a Mockingbird</td>\n",
       "      <td>I had a much longer review written for this bo...</td>\n",
       "      <td>December 17, 2020</td>\n",
       "    </tr>\n",
       "    <tr>\n",
       "      <th>5</th>\n",
       "      <td>7</td>\n",
       "      <td>To Kill a Mockingbird</td>\n",
       "      <td>With endless books and infinitely more to be w...</td>\n",
       "      <td>March 11, 2019</td>\n",
       "    </tr>\n",
       "    <tr>\n",
       "      <th>6</th>\n",
       "      <td>8</td>\n",
       "      <td>To Kill a Mockingbird</td>\n",
       "      <td>While the plot was very gripping and well-writ...</td>\n",
       "      <td>April 18, 2012</td>\n",
       "    </tr>\n",
       "    <tr>\n",
       "      <th>7</th>\n",
       "      <td>9</td>\n",
       "      <td>To Kill a Mockingbird</td>\n",
       "      <td>In the course of 5 years, I’ve read this book ...</td>\n",
       "      <td>May 4, 2015</td>\n",
       "    </tr>\n",
       "    <tr>\n",
       "      <th>8</th>\n",
       "      <td>10</td>\n",
       "      <td>To Kill a Mockingbird</td>\n",
       "      <td>So... I don't really know what to say.I think ...</td>\n",
       "      <td>November 12, 2015</td>\n",
       "    </tr>\n",
       "    <tr>\n",
       "      <th>9</th>\n",
       "      <td>11</td>\n",
       "      <td>To Kill a Mockingbird</td>\n",
       "      <td>Beautiful book.</td>\n",
       "      <td>October 20, 2016</td>\n",
       "    </tr>\n",
       "  </tbody>\n",
       "</table>\n",
       "</div>"
      ],
      "text/plain": [
       "   Unnamed: 0                   Book  \\\n",
       "0           0  To Kill a Mockingbird   \n",
       "1           1  To Kill a Mockingbird   \n",
       "2           2  To Kill a Mockingbird   \n",
       "3           4  To Kill a Mockingbird   \n",
       "4           5  To Kill a Mockingbird   \n",
       "5           7  To Kill a Mockingbird   \n",
       "6           8  To Kill a Mockingbird   \n",
       "7           9  To Kill a Mockingbird   \n",
       "8          10  To Kill a Mockingbird   \n",
       "9          11  To Kill a Mockingbird   \n",
       "\n",
       "                                              Review        Review Date  \n",
       "0  gentle reminder that this is not the time to r...     March 24, 2022  \n",
       "1  6.0 stars. I know I am risking a serious “FILM...       May 24, 2011  \n",
       "2  Looking for a new book but don't want to commi...  December 10, 2020  \n",
       "3  Why is it when I pick up  To Kill A Mockingbir...   October 25, 2009  \n",
       "4  I had a much longer review written for this bo...  December 17, 2020  \n",
       "5  With endless books and infinitely more to be w...     March 11, 2019  \n",
       "6  While the plot was very gripping and well-writ...     April 18, 2012  \n",
       "7  In the course of 5 years, I’ve read this book ...        May 4, 2015  \n",
       "8  So... I don't really know what to say.I think ...  November 12, 2015  \n",
       "9                                    Beautiful book.   October 20, 2016  "
      ]
     },
     "execution_count": 12,
     "metadata": {},
     "output_type": "execute_result"
    }
   ],
   "source": [
    "new_df = df_with_lan.drop(columns=['language'])\n",
    "new_df.head(10)"
   ]
  },
  {
   "cell_type": "code",
   "execution_count": null,
   "id": "630825db",
   "metadata": {},
   "outputs": [
    {
     "data": {
      "text/plain": [
       "(23056, 4)"
      ]
     },
     "execution_count": 13,
     "metadata": {},
     "output_type": "execute_result"
    }
   ],
   "source": [
    "# Check number of rows and columns\n",
    "new_df.shape"
   ]
  },
  {
   "cell_type": "markdown",
   "id": "c6a8c8f0",
   "metadata": {},
   "source": [
    "### Step 3: Save Cleaned Data to CSV File"
   ]
  },
  {
   "cell_type": "code",
   "execution_count": 16,
   "id": "172cc690",
   "metadata": {},
   "outputs": [],
   "source": [
    "new_df.to_csv(\"data/cleaned_data.csv\", index=False)"
   ]
  }
 ],
 "metadata": {
  "kernelspec": {
   "display_name": "env",
   "language": "python",
   "name": "python3"
  },
  "language_info": {
   "codemirror_mode": {
    "name": "ipython",
    "version": 3
   },
   "file_extension": ".py",
   "mimetype": "text/x-python",
   "name": "python",
   "nbconvert_exporter": "python",
   "pygments_lexer": "ipython3",
   "version": "3.13.2"
  }
 },
 "nbformat": 4,
 "nbformat_minor": 5
}
