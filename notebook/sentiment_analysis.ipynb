{
 "cells": [
  {
   "cell_type": "markdown",
   "id": "fbb35567",
   "metadata": {},
   "source": [
    "# Sentiment-Based Book Recommendation Logic (Non-Interactive)\n",
    "\n",
    "This notebook demonstrates the core logic of a sentiment aware book recommender system.\n",
    "It uses TextBlob to analyze review sentiment and suggests alternative books that the user may enjoy."
   ]
  },
  {
   "cell_type": "markdown",
   "id": "d0d143ff",
   "metadata": {},
   "source": [
    "### Importing Needed Libraries"
   ]
  },
  {
   "cell_type": "code",
   "execution_count": null,
   "id": "64642626",
   "metadata": {},
   "outputs": [],
   "source": [
    "import pandas as pd\n"
   ]
  }
 ],
 "metadata": {
  "language_info": {
   "name": "python"
  }
 },
 "nbformat": 4,
 "nbformat_minor": 5
}
